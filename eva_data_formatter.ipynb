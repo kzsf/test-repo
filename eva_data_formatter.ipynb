{
 "cells": [
  {
   "cell_type": "code",
   "execution_count": 28,
   "metadata": {},
   "outputs": [],
   "source": [
    "import pandas as pd\n",
    "import numpy as np"
   ]
  },
  {
   "cell_type": "code",
   "execution_count": 81,
   "metadata": {},
   "outputs": [
    {
     "name": "stdout",
     "output_type": "stream",
     "text": [
      "event_age\n",
      "record_id\n"
     ]
    }
   ],
   "source": [
    "df_1 = pd.read_csv(\"/Users/kjung6/Downloads/eva_data_combine/adrcid_sex.csv\") \n",
    "df_2 = pd.read_csv(\"/Users/kjung6/Downloads/eva_data_combine/age_recordid.csv\")\n",
    "df_3 = pd.read_csv(\"/Users/kjung6/Downloads/eva_data_combine/adrcdb_record_sort.csv\") \n",
    "df_4 = pd.read_csv(\"/Users/kjung6/Downloads/eva_data_combine/adrcdb_other_var.csv\") \n",
    "for col in df_2.columns:\n",
    "    print(col)\n"
   ]
  },
  {
   "cell_type": "code",
   "execution_count": 82,
   "metadata": {},
   "outputs": [
    {
     "name": "stdout",
     "output_type": "stream",
     "text": [
      "    record_id  adrc_id     sex\n",
      "0    11261-16  3900240    Male\n",
      "1    11261-25  3900345    Male\n",
      "2    11261-34  3900041    Male\n",
      "3    11261-47  3900366    Male\n",
      "4    11261-63  3900392    Male\n",
      "..        ...      ...     ...\n",
      "73  11261-309  3900651    Male\n",
      "74  11261-310  3900642  Female\n",
      "75  11261-312  3900657  Female\n",
      "76  11261-313  3900640    Male\n",
      "77  11261-314  3900665    Male\n",
      "\n",
      "[78 rows x 3 columns]\n",
      "    record_id  adrc_id     sex\n",
      "8   11261-108  3900476    Male\n",
      "0    11261-16  3900240    Male\n",
      "9   11261-188  3900141    Male\n",
      "10  11261-193  3900277    Male\n",
      "11  11261-199  3900214  Female\n",
      "..        ...      ...     ...\n",
      "3    11261-47  3900366    Male\n",
      "4    11261-63  3900392    Male\n",
      "5    11261-67  3900393    Male\n",
      "6    11261-83  3900269  Female\n",
      "7    11261-90  3900446    Male\n",
      "\n",
      "[78 rows x 3 columns]\n"
     ]
    }
   ],
   "source": [
    "print(df_1)\n",
    "df_1.sort_values('record_id', ascending = True, inplace = True)\n",
    "print(df_1)"
   ]
  },
  {
   "cell_type": "code",
   "execution_count": 83,
   "metadata": {},
   "outputs": [
    {
     "name": "stdout",
     "output_type": "stream",
     "text": [
      "    event_age  record_id\n",
      "44      67.34  11261-108\n",
      "2       68.34   11261-16\n",
      "47      76.40  11261-188\n",
      "52      84.76  11261-193\n",
      "57      85.32  11261-199\n",
      "..        ...        ...\n",
      "19      77.64   11261-47\n",
      "24      74.25   11261-63\n",
      "31      92.84   11261-67\n",
      "36      61.77   11261-83\n",
      "39      79.77   11261-90\n",
      "\n",
      "[78 rows x 2 columns]\n"
     ]
    }
   ],
   "source": [
    "df_2.sort_values(['record_id', 'event_age'], ascending=[True, False], inplace = True)\n",
    "#print(df_2.head())\n",
    "#print(df_2)\n",
    "df_2 = df_2.drop_duplicates(subset = 'record_id', keep = 'first')\n",
    "#df_2.sort_values('record_id', ascending = True, inplace = True)\n",
    "print(df_2)\n"
   ]
  },
  {
   "cell_type": "code",
   "execution_count": 84,
   "metadata": {},
   "outputs": [
    {
     "name": "stdout",
     "output_type": "stream",
     "text": [
      "    record_id  adrc_id     sex  event_age\n",
      "0   11261-108  3900476    Male      67.34\n",
      "1    11261-16  3900240    Male      68.34\n",
      "2   11261-188  3900141    Male      76.40\n",
      "3   11261-193  3900277    Male      84.76\n",
      "4   11261-199  3900214  Female      85.32\n",
      "..        ...      ...     ...        ...\n",
      "73   11261-47  3900366    Male      77.64\n",
      "74   11261-63  3900392    Male      74.25\n",
      "75   11261-67  3900393    Male      92.84\n",
      "76   11261-83  3900269  Female      61.77\n",
      "77   11261-90  3900446    Male      79.77\n",
      "\n",
      "[78 rows x 4 columns]\n"
     ]
    }
   ],
   "source": [
    "df_1_2 = pd.merge(df_1, df_2, on = 'record_id', how = 'inner')\n",
    "print(df_1_2)"
   ]
  },
  {
   "cell_type": "code",
   "execution_count": 85,
   "metadata": {},
   "outputs": [
    {
     "name": "stdout",
     "output_type": "stream",
     "text": [
      "      adrc_study_id  record_id      redcap_event_name  adrc_id\n",
      "2862      3900697.0        679  year_1_of_study_arm_1  3900697\n",
      "2864      3900678.0        678  year_1_of_study_arm_1  3900678\n",
      "2866      3900677.0        677  year_1_of_study_arm_1  3900677\n",
      "2868      3900676.0        676  year_1_of_study_arm_1  3900676\n",
      "2870      3900675.0        675  year_1_of_study_arm_1  3900675\n",
      "...             ...        ...                    ...      ...\n",
      "6116      3900005.0          5  year_1_of_study_arm_1  3900005\n",
      "6126      3900004.0          4  year_1_of_study_arm_1  3900004\n",
      "6133      3900003.0          3  year_1_of_study_arm_1  3900003\n",
      "6142      3900002.0          2  year_1_of_study_arm_1  3900002\n",
      "6150      3900001.0          1  year_1_of_study_arm_1  3900001\n",
      "\n",
      "[678 rows x 4 columns]\n"
     ]
    }
   ],
   "source": [
    "df_3['record_id'] = df_3['record_id'].astype(int)\n",
    "df_3 = df_3.dropna(subset = ['adrc_study_id'])\n",
    "df_3['adrc_id'] = df_3['adrc_study_id'].astype(int)\n",
    "df_3 = df_3.drop_duplicates(subset = 'adrc_id', keep = 'first')\n",
    "print(df_3)\n",
    "\n",
    "#df_3_4 = pd.merge(df_3, df_4, on = ['record_id', 'record_id', 'redcap_event_name'], how = 'inner')\n",
    "#print(df_3_4)\n",
    "#print(df_3_4.shape)"
   ]
  },
  {
   "cell_type": "code",
   "execution_count": 86,
   "metadata": {},
   "outputs": [
    {
     "name": "stdout",
     "output_type": "stream",
     "text": [
      "   record_id_x  adrc_id     sex  event_age  adrc_study_id  record_id_y  \\\n",
      "0    11261-108  3900476    Male      67.34      3900476.0          476   \n",
      "1     11261-16  3900240    Male      68.34      3900240.0          240   \n",
      "2    11261-188  3900141    Male      76.40      3900141.0          141   \n",
      "3    11261-193  3900277    Male      84.76      3900277.0          277   \n",
      "4    11261-199  3900214  Female      85.32      3900214.0          214   \n",
      "..         ...      ...     ...        ...            ...          ...   \n",
      "73    11261-47  3900366    Male      77.64      3900366.0          366   \n",
      "74    11261-63  3900392    Male      74.25      3900392.0          392   \n",
      "75    11261-67  3900393    Male      92.84      3900393.0          393   \n",
      "76    11261-83  3900269  Female      61.77      3900269.0          269   \n",
      "77    11261-90  3900446    Male      79.77      3900446.0          446   \n",
      "\n",
      "        redcap_event_name  \n",
      "0   year_1_of_study_arm_1  \n",
      "1   year_1_of_study_arm_1  \n",
      "2   year_1_of_study_arm_1  \n",
      "3   year_1_of_study_arm_1  \n",
      "4   year_1_of_study_arm_1  \n",
      "..                    ...  \n",
      "73  year_1_of_study_arm_1  \n",
      "74  year_1_of_study_arm_1  \n",
      "75  year_1_of_study_arm_1  \n",
      "76  year_1_of_study_arm_1  \n",
      "77  year_1_of_study_arm_1  \n",
      "\n",
      "[78 rows x 7 columns]\n"
     ]
    }
   ],
   "source": [
    "df_1_2_3 = pd.merge(df_1_2, df_3, on = 'adrc_id', how = 'inner')\n",
    "print(df_1_2_3)"
   ]
  },
  {
   "cell_type": "code",
   "execution_count": 101,
   "metadata": {},
   "outputs": [],
   "source": [
    "df_4 = pd.read_csv(\"/Users/kjung6/Downloads/eva_data_combine/adrcdb_other_var.csv\") \n",
    "df_4.sort_values(['redcap_event_name', 'record_id'], ascending=[True, False], inplace = True)\n",
    "df_4['record_id'] = df_4['record_id'].astype(int)\n",
    "df_4 = df_4.dropna(subset=['adrc_study_id'])\n",
    "df_4['adrc_id'] = df_4['adrc_study_id'].astype(int)\n",
    "df_4.drop(columns=['record_id'], inplace=True)\n"
   ]
  },
  {
   "cell_type": "markdown",
   "metadata": {},
   "source": [
    "df_4 = pd.read_csv(\"/Users/kjung6/Downloads/eva_data_combine/adrcdb_other_var.csv\") \n",
    "\n",
    "#print(df_4)\n",
    "\n",
    "df_4['redcap_event_name'] = df_4['redcap_event_name'].replace({'cycle_2_referrals_arm_1': 0, '\tcycle_1_referrals_arm_1': 0,\n",
    "                                                               'complete_study_arm_1': 0, \n",
    "                                                               'year_1_of_study_arm_1': 1, \n",
    "                                                               'year_2_of_study_arm_1': 2, \n",
    "                                                               'year_3_of_study_arm_1': 3, \n",
    "                                                               'year_4_of_study_arm_1': 4,\n",
    "                                                               'year_5_of_study_arm_1': 5,\n",
    "                                                               'year_6_of_study_arm_1': 6, \n",
    "                                                               'year_7_of_study_arm_1': 7,\n",
    "                                                               'year_8_of_study_arm_1': 8, \n",
    "                                                               'year_9_of_study_arm_1': 9, \n",
    "                                                               'year_10_of_study_arm_1': 10,\n",
    "                                                               })\n",
    "df_4.sort_values(['redcap_event_name', 'record_id'], ascending=[True, False], inplace = True)\n",
    "#df_4 = df_4.drop_duplicates(subset = 'redcap_event_name', keep = 'first')"
   ]
  },
  {
   "cell_type": "code",
   "execution_count": 102,
   "metadata": {},
   "outputs": [],
   "source": [
    "df_1_2_3_4 = pd.merge(df_1_2_3, df_4, on = ['adrc_id','adrc_study_id', 'redcap_event_name'], how = 'inner')"
   ]
  },
  {
   "cell_type": "code",
   "execution_count": null,
   "metadata": {},
   "outputs": [],
   "source": [
    "def combine_prelim(row):\n",
    "    if row['primary_dgn_prelim_cat___0'] == 1:\n",
    "        return 'Healthy Control'\n",
    "    elif row['primary_dgn_prelim_cat___1'] == 1:\n",
    "        return 'Mild Cognitive Impairment'\n",
    "    elif row['primary_dgn_prelim_cat___2'] == 1:\n",
    "        return 'Probable Alzheimer's Disease'\n",
    "    elif row['primary_dgn_prelim_cat___3'] == 1:\n",
    "        return 'Possible Alzheimer's Disease'\n",
    "    elif row['primary_dgn_prelim_cat___4'] == 1:\n",
    "        return 'Lewy Body Disease'\n",
    "    elif row['primary_dgn_prelim_cat___5'] == 1:\n",
    "        return 'Parkinson's Disease only'\n",
    "    elif row['primary_dgn_prelim_cat___6'] == 1:\n",
    "        return 'Parkinson's Disease and Mild cognitive impairment'\n",
    "    elif row['primary_dgn_prelim_cat___7'] == 1:\n",
    "        return 'Parkinson's Disease and Dementia'\n",
    "    elif row['primary_dgn_prelim_cat___8'] == 1:\n",
    "        return 'Other'\n",
    "    elif row['primary_dgn_prelim_cat___9'] == 1:\n",
    "        return 'w/Concerns'\n",
    "    elif row['primary_dgn_prelim_cat___99'] == 1:\n",
    "        return 'unknown'\n",
    "    else:\n",
    "        return 'No Preliminary Dx'\n",
    "        \n",
    "\n",
    "def combine_consensus(row):\n",
    "    if row['primary_dgn_consensus___0'] == 1:\n",
    "        return 'Healthy Control'\n",
    "    elif row['primary_dgn_consensus___1'] == 1:\n",
    "        return 'Mild Cognitive Impairment'\n",
    "    elif row['primary_dgn_consensus___2'] == 1:\n",
    "        return 'Probable Alzheimer's Disease'\n",
    "    elif row['primary_dgn_consensus___3'] == 1:\n",
    "        return 'Possible Alzheimer's Disease'\n",
    "    elif row['primary_dgn_consensus___4'] == 1:\n",
    "        return 'Lewy Body Disease'\n",
    "    elif row['primary_dgn_consensus___5'] == 1:\n",
    "        return 'Parkinson's Disease only'\n",
    "    elif row['primary_dgn_consensus___6'] == 1:\n",
    "        return 'Parkinson's Disease and Mild cognitive impairment'\n",
    "    elif row['primary_dgn_consensus___7'] == 1:\n",
    "        return 'Parkinson's Disease and Dementia'\n",
    "    elif row['primary_dgn_consensus___8'] == 1:\n",
    "        return 'Other'\n",
    "    elif row['primary_dgn_consensus___9'] == 1:\n",
    "        return 'w/Concerns'\n",
    "    elif row['primary_dgn_consensus___99'] == 1:\n",
    "        return 'unknown'\n",
    "    else:\n",
    "        return 'No Preliminary Dx'"
   ]
  }
 ],
 "metadata": {
  "kernelspec": {
   "display_name": "Python 3",
   "language": "python",
   "name": "python3"
  },
  "language_info": {
   "codemirror_mode": {
    "name": "ipython",
    "version": 3
   },
   "file_extension": ".py",
   "mimetype": "text/x-python",
   "name": "python",
   "nbconvert_exporter": "python",
   "pygments_lexer": "ipython3",
   "version": "3.12.5"
  }
 },
 "nbformat": 4,
 "nbformat_minor": 2
}
